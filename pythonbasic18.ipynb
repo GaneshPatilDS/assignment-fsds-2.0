{
 "cells": [
  {
   "cell_type": "markdown",
   "id": "b70924ca-39e4-4ab2-b718-a5a12e5f8ca7",
   "metadata": {},
   "source": [
    "# QUESTIONS"
   ]
  },
  {
   "cell_type": "markdown",
   "id": "0206dab0-ab95-4007-9072-6190d44a7d5e",
   "metadata": {},
   "source": [
    "1. Create a zoo.py file first. Define the hours() function, which prints the string &#39;Open 9-5 daily&#39;.\n",
    "   Then, use the interactive interpreter to import the zoo module and call its hours() function.\n",
    "   \n",
    "2. In the interactive interpreter, import the zoo module as menagerie and call its hours() function.\n",
    "\n",
    "3. Using the interpreter, explicitly import and call the hours() function from zoo.\n",
    "\n",
    "4. Import the hours() function as info and call it.\n",
    "\n",
    "5. Create a plain dictionary with the key-value pairs &#39;a&#39;: 1, &#39;b&#39;: 2, and &#39;c&#39;: 3, and print it out.\n",
    "\n",
    "6. Make an OrderedDict called fancy from the same pairs listed in 5 and print it. Did it print in the\n",
    "   same order as plain?\n",
    "\n",
    "7. Make a default dictionary called dict_of_lists and pass it the argument list. Make the list\n",
    "   dict_of_lists[&#39;a&#39;] and append the value &#39;something for a&#39; to it in one assignment. Print\n",
    "   dict_of_lists[&#39;a&#39;].\n",
    "------------------------------------------------------------------------------------------------------------------------------------------------------   \n",
    "   "
   ]
  },
  {
   "cell_type": "markdown",
   "id": "fa97c842-fd15-4b96-82e6-cda1266cc156",
   "metadata": {},
   "source": [
    "# ANS:"
   ]
  },
  {
   "cell_type": "markdown",
   "id": "5653d606-9b0a-483a-84e1-3b1bd1457163",
   "metadata": {},
   "source": [
    "\n",
    "\n",
    "1. First, create a `zoo.py` file with the following content:\n",
    "\n",
    "```python\n",
    "# zoo.py\n",
    "def hours():\n",
    "    print('Open 9-5 daily')\n",
    "```\n",
    "------------------------------------------------------------------------------------------------------------------------------------------------------\n",
    "2. Now, use the interactive interpreter to import the `zoo` module and call its `hours()` function:\n",
    "\n",
    "```python\n",
    "import zoo\n",
    "zoo.hours()\n",
    "```\n",
    "------------------------------------------------------------------------------------------------------------------------------------------------------\n",
    "3. Next, import the `zoo` module as `menagerie` and call its `hours()` function:\n",
    "\n",
    "```python\n",
    "import zoo as menagerie\n",
    "menagerie.hours()\n",
    "```\n",
    "------------------------------------------------------------------------------------------------------------------------------------------------------\n",
    "\n",
    "4. Using the interpreter, explicitly import and call the `hours()` function from `zoo`:\n",
    "\n",
    "```python\n",
    "from zoo import hours\n",
    "hours()\n",
    "```\n",
    "------------------------------------------------------------------------------------------------------------------------------------------------------\n",
    "\n",
    "5. Create a plain dictionary with the key-value pairs 'a': 1, 'b': 2, and 'c': 3, and print it out:\n",
    "\n",
    "```python\n",
    "plain_dict = {'a': 1, 'b': 2, 'c': 3}\n",
    "print(plain_dict)\n",
    "```\n",
    "------------------------------------------------------------------------------------------------------------------------------------------------------\n",
    "\n",
    "6. Make an OrderedDict called `fancy` from the same pairs listed in 5 and print it. Did it print in the same order as plain?\n",
    "\n",
    "```python\n",
    "from collections import OrderedDict\n",
    "\n",
    "fancy = OrderedDict([('a', 1), ('b', 2), ('c', 3)])\n",
    "print(fancy)\n",
    "```\n",
    "\n",
    "The `fancy` OrderedDict will print in the same order as the plain dictionary, maintaining the insertion order of the items.\n",
    "\n",
    "-----------------------------------------------------------------------------------------------------------------------------------------------------\n",
    "\n",
    "7. Make a default dictionary called `dict_of_lists` and pass it the argument list. Make the list `dict_of_lists['a']` and append the value 'something for a' to it in one assignment. Print `dict_of_lists['a']`.\n",
    "\n",
    "```python\n",
    "from collections import defaultdict\n",
    "\n",
    "dict_of_lists = defaultdict(list)\n",
    "dict_of_lists['a'].append('something for a')\n",
    "print(dict_of_lists['a'])\n",
    "```\n",
    "\n",
    "The output will be: `['something for a']`\n",
    "\n",
    "------------------------------------------------------------------------------------------------------------------------------------------------------"
   ]
  },
  {
   "cell_type": "code",
   "execution_count": null,
   "id": "6cf69f7a-7981-431f-ba4c-3bcd5fd36ee3",
   "metadata": {},
   "outputs": [],
   "source": []
  }
 ],
 "metadata": {
  "kernelspec": {
   "display_name": "Python 3 (ipykernel)",
   "language": "python",
   "name": "python3"
  },
  "language_info": {
   "codemirror_mode": {
    "name": "ipython",
    "version": 3
   },
   "file_extension": ".py",
   "mimetype": "text/x-python",
   "name": "python",
   "nbconvert_exporter": "python",
   "pygments_lexer": "ipython3",
   "version": "3.10.6"
  }
 },
 "nbformat": 4,
 "nbformat_minor": 5
}
