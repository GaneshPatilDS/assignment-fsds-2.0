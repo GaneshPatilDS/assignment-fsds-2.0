{
 "cells": [
  {
   "cell_type": "markdown",
   "id": "120b4243-1269-4b85-a7e8-d464935e2c80",
   "metadata": {},
   "source": [
    "#  QUESTIONS:"
   ]
  },
  {
   "cell_type": "markdown",
   "id": "e213219f-1fb8-4840-8adb-847c36d2f324",
   "metadata": {},
   "source": [
    "1. How do you distinguish between shutil.copy() and shutil.copytree()?\n",
    "\n",
    "2. What function is used to rename files?\n",
    "\n",
    "3. What is the difference between the delete functions in the send2trash and shutil modules?\n",
    "\n",
    "4. ZipFile objects have a close() method just like File objects’ close() method. What ZipFile method is\n",
    "   equivalent to File objects’ open() method?\n",
    "\n",
    "5. Create a programme that searches a folder tree for files with a certain file extension (such as .pdf\n",
    "   or .jpg). Copy these files from whatever location they are in to a new folder.\n",
    "--------------------------------------------------------------------------------------------------------------------------------------------"
   ]
  },
  {
   "cell_type": "code",
   "execution_count": null,
   "id": "a5bc1d2d-9a49-4170-8aa4-da6f5b8caf69",
   "metadata": {},
   "outputs": [],
   "source": []
  },
  {
   "cell_type": "markdown",
   "id": "a013eae6-fa53-4a75-92c4-7c8833afbaa1",
   "metadata": {},
   "source": [
    "# ANS :"
   ]
  },
  {
   "cell_type": "markdown",
   "id": "65b7f78a-b4cb-4306-9d36-bbeb266c2320",
   "metadata": {},
   "source": [
    "1) The `shutil.copy()` function is used to make a copy of a single file from the source location to the destination location. It takes two arguments: the source file path and the destination file path. It only copies the file itself, not the entire directory structure.\n",
    "\n",
    "On the other hand, the `shutil.copytree()` function is used to recursively copy an entire directory tree (including all files and subdirectories) from the source location to the destination location. It takes two arguments: the source directory path and the destination directory path. It creates a new directory with the same name at the destination location and copies all files and subdirectories within it.\n",
    "\n",
    "2. The `os.rename()` function is used to rename files in Python. It takes two arguments: the current file name/path and the new file name/path. It renames the file to the new specified name.\n",
    "\n",
    "3. The delete functions in the `send2trash` and `shutil` modules have different behaviors:\n",
    "\n",
    "- The `send2trash` module provides a `send2trash()` function that sends files or directories to the recycle bin (or trash) instead of permanently deleting them. It acts as a safe delete operation that allows for possible recovery.\n",
    "\n",
    "- The `shutil` module provides various delete functions like `shutil.rmtree()` and `shutil.remove()` that permanently delete files or directories from the file system. These functions delete the files or directories directly, without sending them to the recycle bin.\n",
    "\n",
    "4. The equivalent ZipFile method to File objects' `open()` method is `ZipFile()` itself. To open a ZIP file, you use the `ZipFile()` constructor method of the `zipfile` module. It takes the path to the ZIP file as its argument and returns a `ZipFile` object.\n",
    "\n",
    "5. Here's an example program that searches a folder tree for files with a certain file extension and copies them to a new folder:\n",
    "\n",
    "```python\n",
    "import os\n",
    "import shutil\n",
    "\n",
    "def copy_files_with_extension(source_folder, destination_folder, extension):\n",
    "    for foldername, subfolders, filenames in os.walk(source_folder):\n",
    "        for filename in filenames:\n",
    "            if filename.endswith(extension):\n",
    "                source_path = os.path.join(foldername, filename)\n",
    "                destination_path = os.path.join(destination_folder, filename)\n",
    "                shutil.copy(source_path, destination_path)\n",
    "\n",
    "# Example usage:\n",
    "source_folder = '/path/to/source/folder'\n",
    "destination_folder = '/path/to/destination/folder'\n",
    "extension = '.pdf'\n",
    "\n",
    "copy_files_with_extension(source_folder, destination_folder, extension)\n",
    "```\n",
    "\n",
    "In this program, `copy_files_with_extension()` function takes the source folder path, destination folder path, and the desired file extension as arguments. It recursively walks through the source folder tree using `os.walk()`, checks if each file has the desired extension, and copies them to the destination folder using `shutil.copy()`."
   ]
  }
 ],
 "metadata": {
  "kernelspec": {
   "display_name": "Python 3 (ipykernel)",
   "language": "python",
   "name": "python3"
  },
  "language_info": {
   "codemirror_mode": {
    "name": "ipython",
    "version": 3
   },
   "file_extension": ".py",
   "mimetype": "text/x-python",
   "name": "python",
   "nbconvert_exporter": "python",
   "pygments_lexer": "ipython3",
   "version": "3.10.6"
  }
 },
 "nbformat": 4,
 "nbformat_minor": 5
}
