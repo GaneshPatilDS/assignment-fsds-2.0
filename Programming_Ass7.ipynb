{
 "cells": [
  {
   "cell_type": "markdown",
   "id": "6c96b5ef-2a37-449a-99c2-857beff39e9c",
   "metadata": {},
   "source": [
    "# QUESTIONS:"
   ]
  },
  {
   "cell_type": "markdown",
   "id": "d5fdc0ab-02d7-49e6-8041-dc518111e24a",
   "metadata": {},
   "source": [
    "1. Write a Python Program to find sum of array?\n",
    "\n",
    "2. Write a Python Program to find largest element in an array?\n",
    "\n",
    "3. Write a Python Program for array rotation?\n",
    "\n",
    "4. Write a Python Program to Split the array and add the first part to the end?\n",
    "\n",
    "5. Write a Python Program to check if given array is Monotonic?\n",
    "\n",
    "--------------------------------------------------------------------------------------------------------------------------------------------"
   ]
  },
  {
   "cell_type": "markdown",
   "id": "26830ce4-49a4-47e7-aa02-0890a4389a81",
   "metadata": {},
   "source": [
    "# ANS:"
   ]
  },
  {
   "cell_type": "markdown",
   "id": "0ef71aae-1554-4b97-953b-e12bd0c544d6",
   "metadata": {},
   "source": [
    "\n",
    "\n",
    "1. **Find Sum of Array:**\n",
    "```python\n",
    "def array_sum(arr):\n",
    "    return sum(arr)\n",
    "\n",
    "array = [int(x) for x in input(\"Enter space-separated elements of the array: \").split()]\n",
    "result = array_sum(array)\n",
    "print(\"Sum of the array:\", result)\n",
    "```\n",
    "--------------------------------------------------------------------------------------------------------------------------------------------\n",
    "\n",
    "2. **Find Largest Element in an Array:**\n",
    "```python\n",
    "def find_largest_element(arr):\n",
    "    return max(arr)\n",
    "\n",
    "array = [int(x) for x in input(\"Enter space-separated elements of the array: \").split()]\n",
    "result = find_largest_element(array)\n",
    "print(\"Largest element in the array:\", result)\n",
    "```\n",
    "-------------------------------------------------------------------------------------------------------------------------------------------\n",
    "\n",
    "3. **Array Rotation:**\n",
    "```python\n",
    "def rotate_array(arr, k):\n",
    "    n = len(arr)\n",
    "    k %= n  # To handle cases when k is larger than the array length\n",
    "    return arr[k:] + arr[:k]\n",
    "\n",
    "array = [int(x) for x in input(\"Enter space-separated elements of the array: \").split()]\n",
    "rotate_by = int(input(\"Enter the number of positions to rotate the array: \"))\n",
    "result = rotate_array(array, rotate_by)\n",
    "print(\"Array after rotation:\", result)\n",
    "```\n",
    "\n",
    "4. **Split the Array and Add the First Part to the End:**\n",
    "```python\n",
    "def split_and_add(arr, split_index):\n",
    "    return arr[split_index:] + arr[:split_index]\n",
    "\n",
    "array = [int(x) for x in input(\"Enter space-separated elements of the array: \").split()]\n",
    "split_index = int(input(\"Enter the index at which to split the array: \"))\n",
    "result = split_and_add(array, split_index)\n",
    "print(\"Array after splitting and adding the first part to the end:\", result)\n",
    "```\n",
    "\n",
    "5. **Check if the Given Array is Monotonic:**\n",
    "```python\n",
    "def is_monotonic(arr):\n",
    "    increasing = decreasing = True\n",
    "\n",
    "    for i in range(1, len(arr)):\n",
    "        if arr[i] > arr[i - 1]:\n",
    "            decreasing = False\n",
    "        if arr[i] < arr[i - 1]:\n",
    "            increasing = False\n",
    "\n",
    "    return increasing or decreasing\n",
    "\n",
    "array = [int(x) for x in input(\"Enter space-separated elements of the array: \").split()]\n",
    "if is_monotonic(array):\n",
    "    print(\"The given array is monotonic.\")\n",
    "else:\n",
    "    print(\"The given array is not monotonic.\")\n",
    "```\n",
    "\n",
    "The last program checks whether the given array is monotonic (either entirely non-increasing or non-decreasing)."
   ]
  }
 ],
 "metadata": {
  "kernelspec": {
   "display_name": "Python 3 (ipykernel)",
   "language": "python",
   "name": "python3"
  },
  "language_info": {
   "codemirror_mode": {
    "name": "ipython",
    "version": 3
   },
   "file_extension": ".py",
   "mimetype": "text/x-python",
   "name": "python",
   "nbconvert_exporter": "python",
   "pygments_lexer": "ipython3",
   "version": "3.10.6"
  }
 },
 "nbformat": 4,
 "nbformat_minor": 5
}
