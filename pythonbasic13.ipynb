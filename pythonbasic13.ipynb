{
 "cells": [
  {
   "cell_type": "markdown",
   "id": "0caae3cb-bd00-46c9-92a6-5f1d8d64a0dc",
   "metadata": {},
   "source": [
    "# QUESTIONS:"
   ]
  },
  {
   "cell_type": "markdown",
   "id": "c22280d1-c2ae-445d-ba5b-c343f81d2ae1",
   "metadata": {},
   "source": [
    "1. What advantages do Excel spreadsheets have over CSV spreadsheets?\n",
    "\n",
    "2. What do you pass to csv.reader() and csv.writer() to create reader and writer objects?\n",
    "\n",
    "3. What modes do File objects for reader and writer objects need to be opened in?\n",
    "\n",
    "4. What method takes a list argument and writes it to a CSV file?\n",
    "\n",
    "5. What do the keyword arguments delimiter and line terminator do?\n",
    "\n",
    "6. What function takes a string of JSON data and returns a Python data structure?\n",
    "\n",
    "7. What function takes a Python data structure and returns a string of JSON data?\n",
    "-------------------------------------------------------------------------------------------------------------------------------------------"
   ]
  },
  {
   "cell_type": "markdown",
   "id": "48bac7ab-5c3a-43a6-8777-a0c5c4f25bca",
   "metadata": {},
   "source": [
    "# ANS:"
   ]
  },
  {
   "cell_type": "markdown",
   "id": "acae1597-f1fa-4231-b316-a4e24fa6c99b",
   "metadata": {},
   "source": [
    "1. Excel spreadsheets have several advantages over CSV spreadsheets:\n",
    "   - Excel spreadsheets can store multiple sheets within a single file, while CSV files contain only one sheet per file.\n",
    "   - Excel supports various formatting options, such as styling, conditional formatting, and formulas, which can enhance the visual              appearance and functionality of the data.\n",
    "   - Excel provides built-in support for complex data types like dates, times, and formulas, whereas CSV files store data as plain text.\n",
    "   - Excel allows for interactive data manipulation, sorting, filtering, and advanced data analysis using features like pivot tables and          charts.\n",
    "-------------------------------------------------------------------------------------------------------------------------------------------\n",
    "\n",
    "2. To create reader and writer objects using the `csv.reader()` and `csv.writer()` functions, you pass a File object as an argument to both    functions. The File object should be opened in the appropriate mode for reading or writing CSV data.\n",
    "--------------------------------------------------------------------------------------------------------------------------------------------\n",
    "3. For reader objects, the File object needs to be opened in text mode ('r') or text mode with universal newline support ('rU'). For writer    objects, the File object needs to be opened in text mode ('w') or append mode ('a').\n",
    "\n",
    "--------------------------------------------------------------------------------------------------------------------------------------------\n",
    "\n",
    "4. The `writerow()` method takes a list argument and writes it as a row to a CSV file using a writer object. Each element in the list          corresponds to a cell value in the row. Here's an example:\n",
    "\n",
    "   ```python\n",
    "   writer.writerow(['John', 'Doe', 'john.doe@example.com'])\n",
    "   ```\n",
    "\n",
    "   This writes a row with three cells containing the values 'John', 'Doe', and 'john.doe@example.com' to the CSV file.\n",
    "--------------------------------------------------------------------------------------------------------------------------------------------\n",
    "\n",
    "5. The `delimiter` keyword argument in `csv.writer()` and `csv.reader()` specifies the character used to separate the values in the CSV        file. The default delimiter is a comma (','). The `line_terminator` keyword argument determines the character(s) used to terminate each      row in the CSV file. The default line terminator is a newline ('\\n'). You can specify custom delimiters and line terminators according to    your requirements.\n",
    "--------------------------------------------------------------------------------------------------------------------------------------------\n",
    "\n",
    "6. The `json.loads()` function takes a string of JSON data and parses it to return a corresponding Python data structure. It deserializes      the JSON string into a Python object, such as a dictionary or a list, based on the JSON syntax.\n",
    "--------------------------------------------------------------------------------------------------------------------------------------------\n",
    "\n",
    "7. The `json.dumps()` function takes a Python data structure, such as a dictionary or a list, and converts it into a string of JSON data. It    serializes the Python object into a JSON-formatted string representation.\n",
    "--------------------------------------------------------------------------------------------------------------------------------------------"
   ]
  },
  {
   "cell_type": "code",
   "execution_count": null,
   "id": "f5156490-8d03-4b40-872e-68f3ad7a10fa",
   "metadata": {},
   "outputs": [],
   "source": []
  }
 ],
 "metadata": {
  "kernelspec": {
   "display_name": "Python 3 (ipykernel)",
   "language": "python",
   "name": "python3"
  },
  "language_info": {
   "codemirror_mode": {
    "name": "ipython",
    "version": 3
   },
   "file_extension": ".py",
   "mimetype": "text/x-python",
   "name": "python",
   "nbconvert_exporter": "python",
   "pygments_lexer": "ipython3",
   "version": "3.10.6"
  }
 },
 "nbformat": 4,
 "nbformat_minor": 5
}
