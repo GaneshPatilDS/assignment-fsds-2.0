{
 "cells": [
  {
   "cell_type": "markdown",
   "id": "52504a01-e1ce-4f70-bac9-00ea0ea9c46c",
   "metadata": {},
   "source": [
    "# QUESTIONS:"
   ]
  },
  {
   "cell_type": "markdown",
   "id": "f84b4c28-61f4-48a0-a1e7-1ddc7fba31c9",
   "metadata": {},
   "source": [
    "1. To what does a relative path refer ?\n",
    "\n",
    "2. What does an absolute path start with your operating system ?\n",
    "\n",
    "3. What do the functions os.getcwd() and os.chdir() do ?\n",
    "\n",
    "4. What are the . and .. folders ?\n",
    "\n",
    "5. In C:\\bacon\\eggs\\spam.txt, which part is the dir name, and which part is the base name ?\n",
    "\n",
    "6. What are the three “mode” arguments that can be passed to the open() function ?\n",
    "\n",
    "7. What happens if an existing file is opened in write mode ?\n",
    "\n",
    "8. How do you tell the difference between read() and readlines() ?\n",
    "\n",
    "9. What data structure does a shelf value resemble ?\n",
    "--------------------------------------------------------------------------------------------------------------------------------------------"
   ]
  },
  {
   "cell_type": "code",
   "execution_count": null,
   "id": "7c679c28-b8f5-4003-b5b6-50ee1596bbeb",
   "metadata": {},
   "outputs": [],
   "source": []
  },
  {
   "cell_type": "markdown",
   "id": "277b098a-7e14-4cad-a449-0ad905d7d78a",
   "metadata": {},
   "source": [
    "# ANS :"
   ]
  },
  {
   "cell_type": "markdown",
   "id": "ccf6a3df-a3aa-475f-b2e1-ad04b2759e6c",
   "metadata": {},
   "source": [
    "1)  A relative path refers to the path of a file or directory relative to the current working directory or another reference point. It does not start with the root directory but is based on the current location.\n",
    "-------------------------------------------------------------------------------------------------------------------------------------------\n",
    "\n",
    "2) An absolute path starts with the root directory of the operating system. In Windows, it typically starts with a drive letter (e.g., \"C:\\\") followed by the directory hierarchy. In Unix-based systems, it starts with a forward slash (\"/\").\n",
    "------------------------------------------------------------------------------------------------------------------------------------------\n",
    "\n",
    "3) The function `os.getcwd()` returns the current working directory, which is the directory in which the Python script is currently executing. The function `os.chdir()` is used to change the current working directory to the specified directory.\n",
    "------------------------------------------------------------------------------------------------------------------------------------------\n",
    "\n",
    "4) The \".\" (dot) represents the current directory, and \"..\" (dot-dot) represents the parent directory. They are used to navigate and reference directories in a relative path. For example, \"./file.txt\" refers to a file named \"file.txt\" in the current directory, and \"../folder/file.txt\" refers to a file named \"file.txt\" in the parent directory's \"folder\" subdirectory.\n",
    "-----------------------------------------------------------------------------------------------------------------------------------------\n",
    "\n",
    "5) In the path \"C:\\bacon\\eggs\\spam.txt\", \"C:\\bacon\\eggs\" is the directory name, and \"spam.txt\" is the base name or filename.\n",
    "-----------------------------------------------------------------------------------------------------------------------------------------\n",
    "\n",
    "6) The three \"mode\" arguments that can be passed to the `open()` function are:\n",
    "   - \"r\": Read mode - Opens a file for reading.\n",
    "   - \"w\": Write mode - Opens a file for writing. If the file doesn't exist, it creates a new file. If it exists, it truncates the file to zero length.\n",
    "   - \"a\": Append mode - Opens a file for appending. If the file doesn't exist, it creates a new file. If it exists, it appends data to the end of the file\n",
    "-----------------------------------------------------------------------------------------------------------------------------------------\n",
    "\n",
    "7) If an existing file is opened in write mode (\"w\"), the file will be truncated to zero length, meaning all its contents will be deleted. The file will be opened for writing, and any new data written to it will overwrite the previous contents.\n",
    "-----------------------------------------------------------------------------------------------------------------------------------------\n",
    "\n",
    "8)  The `read()` method reads the entire contents of a file as a single string. It returns a string that contains the characters from the file.\n",
    "\n",
    "  On the other hand, the `readlines()` method reads the contents of a file line by line and returns a list where each element represents a     line of the file. Each line includes the newline character at the end unless it is the last line of the file.\n",
    "  \n",
    "  ---------------------------------------------------------------------------------------------------------------------------------------\n",
    "\n",
    "9) A shelf value in Python resembles a dictionary-like data structure. It is provided by the `shelve` module and acts as a persistent, disk-based storage for Python objects. The shelf value allows objects to be stored and retrieved using keys, similar to how a dictionary works.\n",
    "-----------------------------------------------------------------------------------------------------------------------------------------"
   ]
  },
  {
   "cell_type": "code",
   "execution_count": null,
   "id": "01ca69b3-08d5-4bc7-8577-1f26e13acef9",
   "metadata": {},
   "outputs": [],
   "source": []
  },
  {
   "cell_type": "code",
   "execution_count": null,
   "id": "54af207e-f85e-437d-bce2-bf4883ee4613",
   "metadata": {},
   "outputs": [],
   "source": []
  }
 ],
 "metadata": {
  "kernelspec": {
   "display_name": "Python 3 (ipykernel)",
   "language": "python",
   "name": "python3"
  },
  "language_info": {
   "codemirror_mode": {
    "name": "ipython",
    "version": 3
   },
   "file_extension": ".py",
   "mimetype": "text/x-python",
   "name": "python",
   "nbconvert_exporter": "python",
   "pygments_lexer": "ipython3",
   "version": "3.10.6"
  }
 },
 "nbformat": 4,
 "nbformat_minor": 5
}
