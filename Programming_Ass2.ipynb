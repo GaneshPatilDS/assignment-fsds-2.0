{
 "cells": [
  {
   "cell_type": "markdown",
   "id": "11cbc3cc-10cd-4c01-afd4-25b4cb393cdc",
   "metadata": {},
   "source": [
    "# QUESTIONS:"
   ]
  },
  {
   "cell_type": "markdown",
   "id": "e78c1306-c1a2-430f-a757-277851a110c5",
   "metadata": {},
   "source": [
    "1. Write a Python program to convert kilometers to miles?\n",
    "\n",
    "2. Write a Python program to convert Celsius to Fahrenheit?\n",
    "\n",
    "3. Write a Python program to display calendar?\n",
    "\n",
    "4. Write a Python program to solve quadratic equation?\n",
    "\n",
    "5. Write a Python program to swap two variables without temp variable?\n",
    "\n",
    "--------------------------------------------------------------------------------------------------------------------------------------------"
   ]
  },
  {
   "cell_type": "markdown",
   "id": "d8aaf7e3-03e4-4b15-8122-18be8d3cca34",
   "metadata": {},
   "source": [
    "# ANS:"
   ]
  },
  {
   "cell_type": "markdown",
   "id": "5c010dac-cb2c-43af-9d8d-8481bfcff789",
   "metadata": {},
   "source": [
    "Sure, here are Python programs for each of the tasks you mentioned:\n",
    "\n",
    "1. **Convert kilometers to miles:**\n",
    "```python\n",
    "def km_to_miles(kilometers):\n",
    "    miles = kilometers * 0.621371\n",
    "    return miles\n",
    "\n",
    "kilometers = float(input(\"Enter distance in kilometers: \"))\n",
    "miles = km_to_miles(kilometers)\n",
    "print(f\"{kilometers} kilometers is equal to {miles} miles.\")\n",
    "```\n",
    "\n",
    "2. **Convert Celsius to Fahrenheit:**\n",
    "```python\n",
    "def celsius_to_fahrenheit(celsius):\n",
    "    fahrenheit = (celsius * 9/5) + 32\n",
    "    return fahrenheit\n",
    "\n",
    "celsius = float(input(\"Enter temperature in Celsius: \"))\n",
    "fahrenheit = celsius_to_fahrenheit(celsius)\n",
    "print(f\"{celsius} degrees Celsius is equal to {fahrenheit} degrees Fahrenheit.\")\n",
    "```\n",
    "\n",
    "3. **Display calendar:**\n",
    "```python\n",
    "import calendar\n",
    "\n",
    "year = int(input(\"Enter year: \"))\n",
    "month = int(input(\"Enter month: \"))\n",
    "\n",
    "print(calendar.month(year, month))\n",
    "```\n",
    "\n",
    "4. **Solve quadratic equation:**\n",
    "```python\n",
    "import cmath\n",
    "\n",
    "def solve_quadratic(a, b, c):\n",
    "    # Calculate the discriminant\n",
    "    discriminant = cmath.sqrt(b**2 - 4*a*c)\n",
    "\n",
    "    # Calculate the two solutions\n",
    "    solution1 = (-b + discriminant) / (2*a)\n",
    "    solution2 = (-b - discriminant) / (2*a)\n",
    "\n",
    "    return solution1, solution2\n",
    "\n",
    "# Example coefficients for the quadratic equation: ax^2 + bx + c = 0\n",
    "a = 1\n",
    "b = -3\n",
    "c = 2\n",
    "\n",
    "solution1, solution2 = solve_quadratic(a, b, c)\n",
    "print(f\"Solutions: {solution1} and {solution2}\")\n",
    "```\n",
    "\n",
    "5. **Swap two variables without a temp variable:**\n",
    "```python\n",
    "def swap_without_temp(a, b):\n",
    "    a = a + b\n",
    "    b = a - b\n",
    "    a = a - b\n",
    "    return a, b\n",
    "\n",
    "num1 = 5\n",
    "num2 = 10\n",
    "\n",
    "num1, num2 = swap_without_temp(num1, num2)\n",
    "print(\"After swapping - num1:\", num1, \"num2:\", num2)\n",
    "```\n",
    "\n",
    "In the `swap_without_temp` function, we use arithmetic operations to swap the values of `a` and `b` without using an extra temporary variable."
   ]
  }
 ],
 "metadata": {
  "kernelspec": {
   "display_name": "Python 3 (ipykernel)",
   "language": "python",
   "name": "python3"
  },
  "language_info": {
   "codemirror_mode": {
    "name": "ipython",
    "version": 3
   },
   "file_extension": ".py",
   "mimetype": "text/x-python",
   "name": "python",
   "nbconvert_exporter": "python",
   "pygments_lexer": "ipython3",
   "version": "3.10.6"
  }
 },
 "nbformat": 4,
 "nbformat_minor": 5
}
