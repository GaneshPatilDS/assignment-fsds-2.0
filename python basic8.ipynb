{
 "cells": [
  {
   "cell_type": "markdown",
   "id": "90fc67a5-c0db-41ba-8ad8-bb58d60449f6",
   "metadata": {},
   "source": [
    "# QUESTIONS:"
   ]
  },
  {
   "cell_type": "markdown",
   "id": "2c6af431-4472-4afd-a21c-61d8a5b38b2b",
   "metadata": {},
   "source": [
    "1. Is the Python Standard Library included with PyInputPlus?\n",
    "\n",
    "2. Why is PyInputPlus commonly imported with import pyinputplus as pypi?\n",
    "\n",
    "3. How do you distinguish between inputInt() and inputFloat()?\n",
    "\n",
    "4. Using PyInputPlus, how do you ensure that the user enters a whole number between 0 and 99?\n",
    "\n",
    "5. What is transferred to the keyword arguments allowRegexes and blockRegexes?\n",
    "\n",
    "6. If a blank input is entered three times, what does inputStr(limit=3) do?\n",
    "\n",
    "7. If blank input is entered three times, what does inputStr(limit=3, default=&#39;hello&#39;) do?\n",
    "------------------------------------------------------------------------------------------------------------------------------------------"
   ]
  },
  {
   "cell_type": "code",
   "execution_count": null,
   "id": "5d69c959-5c01-489a-80a6-b9a7d46691cd",
   "metadata": {},
   "outputs": [],
   "source": []
  },
  {
   "cell_type": "markdown",
   "id": "e92a3dcb-4303-43de-9826-de5511f677b9",
   "metadata": {},
   "source": [
    "# ANS:"
   ]
  },
  {
   "cell_type": "markdown",
   "id": "f2265b1b-d135-49a2-8dfc-9c4a494e7868",
   "metadata": {},
   "source": [
    "1) No, the Python Standard Library is not included with PyInputPlus. PyInputPlus is a separate library that provides additional functionality for taking input from the user.\n",
    "------------------------------------------------------------------------------------------------------------------------------\n",
    "\n",
    "2) PyInputPlus is commonly imported with the alias \"pypi\" to provide a shorter and more convenient name to refer to the library when using its functions and methods. It helps make the code more readable and reduces the typing effort.\n",
    "------------------------------------------------------------------------------------------------------------------------------\n",
    "\n",
    "3) The inputInt() function is used to prompt the user to enter an integer value. It validates the input and ensures that the user enters a valid integer. On the other hand, the inputFloat() function is used to prompt the user to enter a floating-point number. It validates the input and ensures that the user enters a valid floating-point number.\n",
    "-------------------------------------------------------------------------------------------------------------------------------\n",
    "\n",
    "4) To ensure that the user enters a whole number between 0 and 99 using PyInputPlus, you can use the inputInt() function with the \"min\" and \"max\" keyword arguments. Here's an example:\n"
   ]
  },
  {
   "cell_type": "raw",
   "id": "25a570a9-e365-4956-a171-bccb2e05553c",
   "metadata": {},
   "source": [
    "  \n",
    " number = pyinputplus.inputInt(prompt='Enter a number: ', min=0, max=99) \n",
    " \n",
    " \n",
    "This will prompt the user to enter a number and will keep re-prompting until a valid whole number between 0 and 99 is entered."
   ]
  }
 ],
 "metadata": {
  "kernelspec": {
   "display_name": "Python 3 (ipykernel)",
   "language": "python",
   "name": "python3"
  },
  "language_info": {
   "codemirror_mode": {
    "name": "ipython",
    "version": 3
   },
   "file_extension": ".py",
   "mimetype": "text/x-python",
   "name": "python",
   "nbconvert_exporter": "python",
   "pygments_lexer": "ipython3",
   "version": "3.10.6"
  }
 },
 "nbformat": 4,
 "nbformat_minor": 5
}
