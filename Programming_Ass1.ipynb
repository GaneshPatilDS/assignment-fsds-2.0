{
 "cells": [
  {
   "cell_type": "markdown",
   "id": "d2350cd4-8f00-4ae0-a1b4-9a264a7a6e4f",
   "metadata": {},
   "source": [
    "# QUESTIONS:"
   ]
  },
  {
   "cell_type": "markdown",
   "id": "f5294f18-977e-4951-9d5d-23028a94158d",
   "metadata": {},
   "source": [
    "1. Write a Python program to print &quot;Hello Python&quot;?\n",
    "\n",
    "2. Write a Python program to do arithmetical operations addition and division.?\n",
    "\n",
    "3. Write a Python program to find the area of a triangle?\n",
    "\n",
    "4. Write a Python program to swap two variables?\n",
    "\n",
    "5. Write a Python program to generate a random number?\n",
    "\n",
    "-------------------------------------------------------------------------------------------------------------------------------------------"
   ]
  },
  {
   "cell_type": "markdown",
   "id": "4cb2c487-482c-476f-91e4-874e5e766617",
   "metadata": {},
   "source": [
    "# ANS :"
   ]
  },
  {
   "cell_type": "markdown",
   "id": "40005e28-ad79-44cf-bbad-57781fba8919",
   "metadata": {},
   "source": [
    "\n",
    "\n",
    "1. **Print \"Hello Python\":**\n",
    "```python\n",
    "print(\"Hello Python\")\n",
    "```\n",
    "\n",
    "2. **Arithmetical operations - Addition and Division:**\n",
    "```python\n",
    "def add_and_divide(a, b):\n",
    "    addition = a + b\n",
    "    division = a / b\n",
    "    return addition, division\n",
    "\n",
    "num1 = 10\n",
    "num2 = 5\n",
    "\n",
    "result_add, result_div = add_and_divide(num1, num2)\n",
    "print(\"Addition:\", result_add)\n",
    "print(\"Division:\", result_div)\n",
    "```\n",
    "\n",
    "3. **Calculate the area of a triangle:**\n",
    "```python\n",
    "def triangle_area(base, height):\n",
    "    area = 0.5 * base * height\n",
    "    return area\n",
    "\n",
    "base_length = 10\n",
    "height_length = 6\n",
    "\n",
    "triangle_area = triangle_area(base_length, height_length)\n",
    "print(\"Area of the triangle:\", triangle_area)\n",
    "```\n",
    "\n",
    "4. **Swap two variables:**\n",
    "```python\n",
    "def swap_variables(a, b):\n",
    "    a, b = b, a\n",
    "    return a, b\n",
    "\n",
    "num1 = 5\n",
    "num2 = 10\n",
    "\n",
    "num1, num2 = swap_variables(num1, num2)\n",
    "print(\"After swapping - num1:\", num1, \"num2:\", num2)\n",
    "```\n",
    "\n",
    "5. **Generate a random number:**\n",
    "To generate a random number, we can use the `random` module in Python.\n",
    "\n",
    "```python\n",
    "import random\n",
    "\n",
    "random_number = random.randint(1, 100)  # Generates a random integer between 1 and 100 (inclusive)\n",
    "print(\"Random Number:\", random_number)\n",
    "```\n",
    "\n",
    "Remember to import the `random` module before using the `random.randint()` function to generate a random number."
   ]
  },
  {
   "cell_type": "code",
   "execution_count": null,
   "id": "fca36f0e-3081-40a4-a12d-e2a566878933",
   "metadata": {},
   "outputs": [],
   "source": []
  }
 ],
 "metadata": {
  "kernelspec": {
   "display_name": "Python 3 (ipykernel)",
   "language": "python",
   "name": "python3"
  },
  "language_info": {
   "codemirror_mode": {
    "name": "ipython",
    "version": 3
   },
   "file_extension": ".py",
   "mimetype": "text/x-python",
   "name": "python",
   "nbconvert_exporter": "python",
   "pygments_lexer": "ipython3",
   "version": "3.10.6"
  }
 },
 "nbformat": 4,
 "nbformat_minor": 5
}
