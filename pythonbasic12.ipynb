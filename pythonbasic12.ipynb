{
 "cells": [
  {
   "cell_type": "markdown",
   "id": "aa17a840-7884-439d-ad2c-0dc8d80a7950",
   "metadata": {},
   "source": [
    "# QUESTIONS "
   ]
  },
  {
   "cell_type": "markdown",
   "id": "a0d5cd4d-dcd5-4313-925e-24593a9b44ac",
   "metadata": {},
   "source": [
    "1. In what modes should the PdfFileReader() and PdfFileWriter() File objects will be opened?\n",
    "\n",
    "2. From a PdfFileReader object, how do you get a Page object for page 5?\n",
    "\n",
    "3. What PdfFileReader variable stores the number of pages in the PDF document?\n",
    "\n",
    "4. If a PdfFileReader object’s PDF is encrypted with the password swordfish, what must you do\n",
    "   before you can obtain Page objects from it?\n",
    "\n",
    "5. What methods do you use to rotate a page?\n",
    "\n",
    "6. What is the difference between a Run object and a Paragraph object?\n",
    "\n",
    "7. How do you obtain a list of Paragraph objects for a Document object that’s stored in a variable\n",
    "   named doc?\n",
    "\n",
    "8. What type of object has bold, underline, italic, strike, and outline variables?\n",
    "\n",
    "9. What is the difference between False, True, and None for the bold variable?\n",
    "\n",
    "10. How do you create a Document object for a new Word document?\n",
    "\n",
    "11. How do you add a paragraph with the text \"Hello, there\" to a Document object stored in a\n",
    "    variable named doc?\n",
    "\n",
    "12. What integers represent the levels of headings available in Word documents?\n",
    "--------------------------------------------------------------------------------------------------------------------------------------------"
   ]
  },
  {
   "cell_type": "markdown",
   "id": "4721d036-2685-46f5-9863-6483f5f134da",
   "metadata": {},
   "source": [
    "# ANS :"
   ]
  },
  {
   "cell_type": "markdown",
   "id": "e1fa5122-2a47-4264-bbc5-15458af80bdd",
   "metadata": {},
   "source": [
    "1. When using the `PdfFileReader()` and `PdfFileWriter()` functions from the `PyPDF2` library, the File objects should be opened in the        following modes:\n",
    "\n",
    "   - `PdfFileReader()`: The File object should be opened in binary mode ('rb').\n",
    "   - `PdfFileWriter()`: The File object should be opened in binary mode ('wb').\n",
    "\n",
    "2. To get a `Page` object for page 5 from a `PdfFileReader` object, you can use the `getPage()` method and pass the index of the page (zero-    based) as an argument. Here's an example:\n",
    "\n",
    "   ```python\n",
    "   page = pdf_reader.getPage(4)  # Page 5 (index 4)\n",
    "   ```\n",
    "\n",
    "3. The `numPages` variable of a `PdfFileReader` object stores the number of pages in the PDF document. You can access it using                   `pdf_reader.numPages`\n",
    "\n",
    "\n",
    "4. If a `PdfFileReader` object's PDF is encrypted with the password \"swordfish,\" you need to call the `decrypt()` method on the object and      provide the password as an argument before you can obtain `Page` objects from it. Here's an example:\n",
    "\n",
    "   ```python\n",
    "   pdf_reader.decrypt('swordfish')\n",
    "   ```\n",
    "\n",
    "5. To rotate a page in `PyPDF2`, you can use the `rotateClockwise()` or `rotateCounterClockwise()` methods on a `Page` object. These methods    accept an angle (in degrees) as an argument. Positive values rotate the page clockwise, while negative values rotate it counterclockwise.    Here are examples of both methods:\n",
    "\n",
    "   ```python\n",
    "   page.rotateClockwise(90)  # Rotate page 90 degrees clockwise\n",
    "   page.rotateCounterClockwise(180)  # Rotate page 180 degrees counterclockwise\n",
    "   ```\n",
    "\n",
    "6. In `python-docx`, a `Run` object represents a contiguous run of text within a paragraph. It can have different formatting applied to it, such as font styles and sizes. On the other hand, a `Paragraph` object represents a single paragraph of text in a Word document. It consists of one or more `Run` objects.\n",
    "\n",
    "7. To obtain a list of `Paragraph` objects for a `Document` object stored in a variable named `doc`, you can use the `paragraphs` property. Accessing `doc.paragraphs` will give you a list of `Paragraph` objects.\n",
    "\n",
    "8. The `Run` object in `python-docx` has bold, underline, italic, strike, and outline variables. These variables represent the formatting attributes applied to the text run.\n",
    "\n",
    "9. In `python-docx`, for the `bold` variable:\n",
    "   - `False` indicates that the text is not bold.\n",
    "   - `True` indicates that the text is bold.\n",
    "   - `None` indicates that the text's boldness is determined by the parent style or is unspecified.\n",
    "\n",
    "10. To create a `Document` object for a new Word document, you can use the `Document()` constructor without any arguments. Here's an example:\n",
    "\n",
    "    ```python\n",
    "    doc = Document()  # Creates a new Document object\n",
    "    ```\n",
    "\n",
    "11. To add a paragraph with the text \"Hello, there!\" to a `Document` object stored in a variable named `doc`, you can use the `add_paragraph()` method. Here's an example:\n",
    "\n",
    "    ```python\n",
    "    doc.add_paragraph(\"Hello, there!\")  # Adds a paragraph with the specified text to the document\n",
    "    ```\n",
    "\n",
    "12. In Word documents, the levels of headings are represented by integers from 1 to 9. The higher the integer value, the lower the level of the heading. For example, a level 1 heading is the highest level, while a level 9 heading is the lowest level."
   ]
  },
  {
   "cell_type": "code",
   "execution_count": null,
   "id": "def437a1-09a8-4e66-b4fb-22df7c6f93d7",
   "metadata": {},
   "outputs": [],
   "source": []
  }
 ],
 "metadata": {
  "kernelspec": {
   "display_name": "Python 3 (ipykernel)",
   "language": "python",
   "name": "python3"
  },
  "language_info": {
   "codemirror_mode": {
    "name": "ipython",
    "version": 3
   },
   "file_extension": ".py",
   "mimetype": "text/x-python",
   "name": "python",
   "nbconvert_exporter": "python",
   "pygments_lexer": "ipython3",
   "version": "3.10.6"
  }
 },
 "nbformat": 4,
 "nbformat_minor": 5
}
