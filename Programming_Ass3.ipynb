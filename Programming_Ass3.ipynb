{
 "cells": [
  {
   "cell_type": "markdown",
   "id": "15774b91-d093-420c-9c25-377f193486a6",
   "metadata": {},
   "source": [
    "# QUESTIONS"
   ]
  },
  {
   "cell_type": "markdown",
   "id": "5318cba1-3806-43b7-8646-0424849f89ec",
   "metadata": {},
   "source": [
    "1. Write a Python Program to Check if a Number is Positive, Negative or Zero?\n",
    "\n",
    "2. Write a Python Program to Check if a Number is Odd or Even?\n",
    "\n",
    "3. Write a Python Program to Check Leap Year?\n",
    "\n",
    "4. Write a Python Program to Check Prime Number?\n",
    "\n",
    "5. Write a Python Program to Print all Prime Numbers in an Interval of 1-10000?\n",
    "--------------------------------------------------------------------------------------------------------------------------------------------"
   ]
  },
  {
   "cell_type": "markdown",
   "id": "cd8b6326-7e99-42cd-ae0c-dfdcac28eaa1",
   "metadata": {},
   "source": [
    "# ANS:"
   ]
  },
  {
   "cell_type": "markdown",
   "id": "ee307092-3e90-43d3-8a27-98066e938b0b",
   "metadata": {},
   "source": [
    "\n",
    "\n",
    "1. **Check if a Number is Positive, Negative, or Zero:**\n",
    "```python\n",
    "def check_number_sign(num):\n",
    "    if num > 0:\n",
    "        print(\"Positive number\")\n",
    "    elif num < 0:\n",
    "        print(\"Negative number\")\n",
    "    else:\n",
    "        print(\"Zero\")\n",
    "\n",
    "number = float(input(\"Enter a number: \"))\n",
    "check_number_sign(number)\n",
    "```\n",
    "--------------------------------------------------------------------------------------------------------------------------------------------\n",
    "\n",
    "2. **Check if a Number is Odd or Even:**\n",
    "```python\n",
    "def check_odd_even(num):\n",
    "    if num % 2 == 0:\n",
    "        print(\"Even number\")\n",
    "    else:\n",
    "        print(\"Odd number\")\n",
    "\n",
    "number = int(input(\"Enter a number: \"))\n",
    "check_odd_even(number)\n",
    "```\n",
    "--------------------------------------------------------------------------------------------------------------------------------------------\n",
    "\n",
    "3. **Check Leap Year:**\n",
    "```python\n",
    "def is_leap_year(year):\n",
    "    if (year % 4 == 0 and year % 100 != 0) or (year % 400 == 0):\n",
    "        return True\n",
    "    else:\n",
    "        return False\n",
    "\n",
    "year = int(input(\"Enter a year: \"))\n",
    "if is_leap_year(year):\n",
    "    print(f\"{year} is a leap year.\")\n",
    "else:\n",
    "    print(f\"{year} is not a leap year.\")\n",
    "```\n",
    "--------------------------------------------------------------------------------------------------------------------------------------------\n",
    "\n",
    "4. **Check Prime Number:**\n",
    "```python\n",
    "def is_prime(number):\n",
    "    if number <= 1:\n",
    "        return False\n",
    "    for i in range(2, int(number**0.5) + 1):\n",
    "        if number % i == 0:\n",
    "            return False\n",
    "    return True\n",
    "\n",
    "number = int(input(\"Enter a number: \"))\n",
    "if is_prime(number):\n",
    "    print(f\"{number} is a prime number.\")\n",
    "else:\n",
    "    print(f\"{number} is not a prime number.\")\n",
    "```\n",
    "-----------------------------------------------------------\n",
    "5. **Print all Prime Numbers in an Interval of 1-10000:**\n",
    "```python\n",
    "def is_prime(number):\n",
    "    if number <= 1:\n",
    "        return False\n",
    "    for i in range(2, int(number**0.5) + 1):\n",
    "        if number % i == 0:\n",
    "            return False\n",
    "    return True\n",
    "\n",
    "print(\"Prime numbers between 1 and 10000:\")\n",
    "for num in range(1, 10001):\n",
    "    if is_prime(num):\n",
    "        print(num, end=\" \")\n",
    "```\n",
    "\n",
    "The last program prints all prime numbers between 1 and 10000, separated by spaces. The `is_prime()` function is reused from the previous program to check if a number is prime."
   ]
  }
 ],
 "metadata": {
  "kernelspec": {
   "display_name": "Python 3 (ipykernel)",
   "language": "python",
   "name": "python3"
  },
  "language_info": {
   "codemirror_mode": {
    "name": "ipython",
    "version": 3
   },
   "file_extension": ".py",
   "mimetype": "text/x-python",
   "name": "python",
   "nbconvert_exporter": "python",
   "pygments_lexer": "ipython3",
   "version": "3.10.6"
  }
 },
 "nbformat": 4,
 "nbformat_minor": 5
}
